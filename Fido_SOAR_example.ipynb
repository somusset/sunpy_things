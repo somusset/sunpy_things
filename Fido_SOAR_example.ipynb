{
 "cells": [
  {
   "cell_type": "markdown",
   "id": "84d6fad5",
   "metadata": {},
   "source": [
    "# Selecting specific filenames before downloading data"
   ]
  },
  {
   "cell_type": "markdown",
   "id": "ada367bd",
   "metadata": {},
   "source": [
    "In this example we demonstrate how to filter a Fido.search result by specifying elements that should be contained in the filenames, to only download these files."
   ]
  },
  {
   "cell_type": "code",
   "execution_count": 1,
   "id": "d1eff77c",
   "metadata": {},
   "outputs": [
    {
     "name": "stderr",
     "output_type": "stream",
     "text": [
      "C:\\Users\\sophie.musset\\Anaconda3\\envs\\sunpyenv\\Lib\\site-packages\\tqdm\\auto.py:21: TqdmWarning: IProgress not found. Please update jupyter and ipywidgets. See https://ipywidgets.readthedocs.io/en/stable/user_install.html\n",
      "  from .autonotebook import tqdm as notebook_tqdm\n"
     ]
    }
   ],
   "source": [
    "#import sunpy\n",
    "#import numpy as np\n",
    "#import astropy.units as u\n",
    "from sunpy.net import Fido, attrs"
   ]
  },
  {
   "cell_type": "markdown",
   "id": "f9575939",
   "metadata": {},
   "source": [
    "We will search for EUI data from the Solar Orbiter mission in a given time range."
   ]
  },
  {
   "cell_type": "code",
   "execution_count": 2,
   "id": "7a759a78",
   "metadata": {},
   "outputs": [],
   "source": [
    "time_range = attrs.Time(\"2022-03-06 18:0:00\", \"2022-03-06 18:10:00\")"
   ]
  },
  {
   "cell_type": "code",
   "execution_count": 3,
   "id": "9a986b76",
   "metadata": {},
   "outputs": [],
   "source": [
    "query = Fido.search(\n",
    "    time_range,\n",
    "    attrs.Instrument.eui,\n",
    "    attrs.Level(2)\n",
    ")"
   ]
  },
  {
   "cell_type": "markdown",
   "id": "b3978d7e",
   "metadata": {},
   "source": [
    "Display the results"
   ]
  },
  {
   "cell_type": "code",
   "execution_count": 4,
   "id": "60818cb4",
   "metadata": {},
   "outputs": [
    {
     "data": {
      "text/html": [
       "Results from 1 Provider:</br></br>38 Results from the VSOClient:</br><div><i>VSOQueryResponseTable length=38</i>\n",
       "<table id=\"table2036648174800\" class=\"table-striped table-bordered table-condensed\">\n",
       "<thead><tr><th>Start Time</th><th>End Time</th><th>Source</th><th>Instrument</th><th>Wavelength</th><th>Provider</th><th>Physobs</th><th>Wavetype</th><th>Extent X</th><th>Extent Y</th><th>Extent Width</th><th>Extent Length</th><th>Extent Type</th><th>Size</th></tr></thead>\n",
       "<thead><tr><th></th><th></th><th></th><th></th><th>Angstrom</th><th></th><th></th><th></th><th></th><th></th><th></th><th></th><th></th><th>Mibyte</th></tr></thead>\n",
       "<thead><tr><th>Time</th><th>Time</th><th>str2</th><th>str3</th><th>float64[2]</th><th>str7</th><th>str9</th><th>str3</th><th>str18</th><th>str17</th><th>str19</th><th>str21</th><th>str8</th><th>float64</th></tr></thead>\n",
       "<tr><td>2022-03-06 18:00:00.000</td><td>2022-03-06 18:00:02.000</td><td>SO</td><td>EUI</td><td>171.0 .. 178.0</td><td>SDAC_SO</td><td>intensity</td><td>euv</td><td>-170.3468239462878</td><td>999.9999999999999</td><td>15.744000000000000</td><td>1007.616000000000000</td><td>FULL_SUN</td><td>6.09766</td></tr>\n",
       "<tr><td>2022-03-06 18:00:30.000</td><td>2022-03-06 18:00:40.000</td><td>SO</td><td>EUI</td><td>171.0 .. 185.0</td><td>SDAC_SO</td><td>intensity</td><td>euv</td><td>91.9019555825049</td><td>999.9999999999999</td><td>142.083982400000000</td><td>13640.062310400000000</td><td>FULL_SUN</td><td>3.52637</td></tr>\n",
       "<tr><td>2022-03-06 18:00:30.000</td><td>2022-03-06 18:00:32.000</td><td>SO</td><td>EUI</td><td>171.0 .. 178.0</td><td>SDAC_SO</td><td>intensity</td><td>euv</td><td>-170.4952287371629</td><td>999.9999999999999</td><td>15.744000000000000</td><td>1007.616000000000000</td><td>FULL_SUN</td><td>6.05859</td></tr>\n",
       "<tr><td>2022-03-06 18:00:30.000</td><td>2022-03-06 18:00:35.000</td><td>SO</td><td>EUI</td><td>1120.0 .. 1340.0</td><td>SDAC_SO</td><td>intensity</td><td>uv</td><td>-75.1508334701976</td><td>999.9999999999999</td><td>32.896000000000000</td><td>1052.672000000000000</td><td>FULL_SUN</td><td>1.37012</td></tr>\n",
       "<tr><td>2022-03-06 18:01:00.000</td><td>2022-03-06 18:01:02.000</td><td>SO</td><td>EUI</td><td>171.0 .. 178.0</td><td>SDAC_SO</td><td>intensity</td><td>euv</td><td>-169.9689878801604</td><td>999.9999999999999</td><td>15.744000000000000</td><td>1007.616000000000000</td><td>FULL_SUN</td><td>6.1416</td></tr>\n",
       "<tr><td>2022-03-06 18:01:30.000</td><td>2022-03-06 18:01:32.000</td><td>SO</td><td>EUI</td><td>171.0 .. 178.0</td><td>SDAC_SO</td><td>intensity</td><td>euv</td><td>-170.1441200128021</td><td>999.9999999999999</td><td>15.744000000000000</td><td>1007.616000000000000</td><td>FULL_SUN</td><td>6.125</td></tr>\n",
       "<tr><td>2022-03-06 18:01:30.000</td><td>2022-03-06 18:01:35.000</td><td>SO</td><td>EUI</td><td>1120.0 .. 1340.0</td><td>SDAC_SO</td><td>intensity</td><td>uv</td><td>-74.8317269255084</td><td>999.9999999999999</td><td>32.896000000000000</td><td>1052.672000000000000</td><td>FULL_SUN</td><td>1.37305</td></tr>\n",
       "<tr><td>2022-03-06 18:02:00.000</td><td>2022-03-06 18:02:10.000</td><td>SO</td><td>EUI</td><td>171.0 .. 185.0</td><td>SDAC_SO</td><td>intensity</td><td>euv</td><td>91.9760312971424</td><td>999.9999999999999</td><td>142.083982400000000</td><td>13640.062310400000000</td><td>FULL_SUN</td><td>3.5459</td></tr>\n",
       "<tr><td>2022-03-06 18:02:00.000</td><td>2022-03-06 18:02:02.000</td><td>SO</td><td>EUI</td><td>171.0 .. 178.0</td><td>SDAC_SO</td><td>intensity</td><td>euv</td><td>-170.2857851537471</td><td>999.9999999999999</td><td>15.744000000000000</td><td>1007.616000000000000</td><td>FULL_SUN</td><td>6.11426</td></tr>\n",
       "<tr><td>...</td><td>...</td><td>...</td><td>...</td><td>...</td><td>...</td><td>...</td><td>...</td><td>...</td><td>...</td><td>...</td><td>...</td><td>...</td><td>...</td></tr>\n",
       "<tr><td>2022-03-06 18:07:30.000</td><td>2022-03-06 18:07:35.000</td><td>SO</td><td>EUI</td><td>1120.0 .. 1340.0</td><td>SDAC_SO</td><td>intensity</td><td>uv</td><td>-74.9584530732952</td><td>999.9999999999999</td><td>32.896000000000000</td><td>1052.672000000000000</td><td>FULL_SUN</td><td>1.37305</td></tr>\n",
       "<tr><td>2022-03-06 18:08:00.000</td><td>2022-03-06 18:08:10.000</td><td>SO</td><td>EUI</td><td>171.0 .. 185.0</td><td>SDAC_SO</td><td>intensity</td><td>euv</td><td>93.3048865802171</td><td>999.9999999999999</td><td>142.083982400000000</td><td>13640.062310400000000</td><td>FULL_SUN</td><td>3.58691</td></tr>\n",
       "<tr><td>2022-03-06 18:08:00.000</td><td>2022-03-06 18:08:02.000</td><td>SO</td><td>EUI</td><td>171.0 .. 178.0</td><td>SDAC_SO</td><td>intensity</td><td>euv</td><td>-170.0536160328030</td><td>999.9999999999999</td><td>15.744000000000000</td><td>1007.616000000000000</td><td>FULL_SUN</td><td>6.12793</td></tr>\n",
       "<tr><td>2022-03-06 18:08:30.000</td><td>2022-03-06 18:08:32.000</td><td>SO</td><td>EUI</td><td>171.0 .. 178.0</td><td>SDAC_SO</td><td>intensity</td><td>euv</td><td>-170.0469268359201</td><td>999.9999999999999</td><td>15.744000000000000</td><td>1007.616000000000000</td><td>FULL_SUN</td><td>6.13574</td></tr>\n",
       "<tr><td>2022-03-06 18:08:30.000</td><td>2022-03-06 18:08:35.000</td><td>SO</td><td>EUI</td><td>1120.0 .. 1340.0</td><td>SDAC_SO</td><td>intensity</td><td>uv</td><td>-74.7697111779079</td><td>999.9999999999999</td><td>32.896000000000000</td><td>1052.672000000000000</td><td>FULL_SUN</td><td>1.35938</td></tr>\n",
       "<tr><td>2022-03-06 18:09:00.000</td><td>2022-03-06 18:09:02.000</td><td>SO</td><td>EUI</td><td>171.0 .. 178.0</td><td>SDAC_SO</td><td>intensity</td><td>euv</td><td>-170.2674032816607</td><td>999.9999999999999</td><td>15.744000000000000</td><td>1007.616000000000000</td><td>FULL_SUN</td><td>6.13281</td></tr>\n",
       "<tr><td>2022-03-06 18:09:30.000</td><td>2022-03-06 18:09:40.000</td><td>SO</td><td>EUI</td><td>171.0 .. 185.0</td><td>SDAC_SO</td><td>intensity</td><td>euv</td><td>93.2203433592126</td><td>999.9999999999999</td><td>142.083982400000000</td><td>13640.062310400000000</td><td>FULL_SUN</td><td>3.58398</td></tr>\n",
       "<tr><td>2022-03-06 18:09:30.000</td><td>2022-03-06 18:09:32.000</td><td>SO</td><td>EUI</td><td>171.0 .. 178.0</td><td>SDAC_SO</td><td>intensity</td><td>euv</td><td>-170.1684088515825</td><td>999.9999999999999</td><td>15.744000000000000</td><td>1007.616000000000000</td><td>FULL_SUN</td><td>6.10547</td></tr>\n",
       "<tr><td>2022-03-06 18:09:30.000</td><td>2022-03-06 18:09:35.000</td><td>SO</td><td>EUI</td><td>1120.0 .. 1340.0</td><td>SDAC_SO</td><td>intensity</td><td>uv</td><td>-74.8245986137800</td><td>999.9999999999999</td><td>32.896000000000000</td><td>1052.672000000000000</td><td>FULL_SUN</td><td>1.35645</td></tr>\n",
       "<tr><td>2022-03-06 18:10:00.000</td><td>2022-03-06 18:10:02.000</td><td>SO</td><td>EUI</td><td>171.0 .. 178.0</td><td>SDAC_SO</td><td>intensity</td><td>euv</td><td>-170.1488853905003</td><td>999.9999999999999</td><td>15.744000000000000</td><td>1007.616000000000000</td><td>FULL_SUN</td><td>6.11133</td></tr>\n",
       "</table></div></br>"
      ],
      "text/plain": [
       "<sunpy.net.fido_factory.UnifiedResponse object at 0x000001DA31A0D9D0>\n",
       "Results from 1 Provider:\n",
       "\n",
       "38 Results from the VSOClient:\n",
       "Source: http://vso.stanford.edu/cgi-bin/search\n",
       "Total estimated size: 174.867 Mbyte\n",
       "\n",
       "       Start Time               End Time        Source ... Extent Type   Size \n",
       "                                                       ...              Mibyte\n",
       "----------------------- ----------------------- ------ ... ----------- -------\n",
       "2022-03-06 18:00:00.000 2022-03-06 18:00:02.000     SO ...    FULL_SUN 6.09766\n",
       "2022-03-06 18:00:30.000 2022-03-06 18:00:40.000     SO ...    FULL_SUN 3.52637\n",
       "2022-03-06 18:00:30.000 2022-03-06 18:00:32.000     SO ...    FULL_SUN 6.05859\n",
       "2022-03-06 18:00:30.000 2022-03-06 18:00:35.000     SO ...    FULL_SUN 1.37012\n",
       "2022-03-06 18:01:00.000 2022-03-06 18:01:02.000     SO ...    FULL_SUN  6.1416\n",
       "2022-03-06 18:01:30.000 2022-03-06 18:01:32.000     SO ...    FULL_SUN   6.125\n",
       "2022-03-06 18:01:30.000 2022-03-06 18:01:35.000     SO ...    FULL_SUN 1.37305\n",
       "2022-03-06 18:02:00.000 2022-03-06 18:02:10.000     SO ...    FULL_SUN  3.5459\n",
       "2022-03-06 18:02:00.000 2022-03-06 18:02:02.000     SO ...    FULL_SUN 6.11426\n",
       "2022-03-06 18:02:30.000 2022-03-06 18:02:32.000     SO ...    FULL_SUN 6.13281\n",
       "                    ...                     ...    ... ...         ...     ...\n",
       "2022-03-06 18:07:30.000 2022-03-06 18:07:35.000     SO ...    FULL_SUN 1.37305\n",
       "2022-03-06 18:08:00.000 2022-03-06 18:08:10.000     SO ...    FULL_SUN 3.58691\n",
       "2022-03-06 18:08:00.000 2022-03-06 18:08:02.000     SO ...    FULL_SUN 6.12793\n",
       "2022-03-06 18:08:30.000 2022-03-06 18:08:32.000     SO ...    FULL_SUN 6.13574\n",
       "2022-03-06 18:08:30.000 2022-03-06 18:08:35.000     SO ...    FULL_SUN 1.35938\n",
       "2022-03-06 18:09:00.000 2022-03-06 18:09:02.000     SO ...    FULL_SUN 6.13281\n",
       "2022-03-06 18:09:30.000 2022-03-06 18:09:40.000     SO ...    FULL_SUN 3.58398\n",
       "2022-03-06 18:09:30.000 2022-03-06 18:09:32.000     SO ...    FULL_SUN 6.10547\n",
       "2022-03-06 18:09:30.000 2022-03-06 18:09:35.000     SO ...    FULL_SUN 1.35645\n",
       "2022-03-06 18:10:00.000 2022-03-06 18:10:02.000     SO ...    FULL_SUN 6.11133\n",
       "Length = 38 rows\n"
      ]
     },
     "execution_count": 4,
     "metadata": {},
     "output_type": "execute_result"
    }
   ],
   "source": [
    "query"
   ]
  },
  {
   "cell_type": "markdown",
   "id": "5e1f554f",
   "metadata": {},
   "source": [
    "Check the existing keys for this query"
   ]
  },
  {
   "cell_type": "code",
   "execution_count": 5,
   "id": "e981a139",
   "metadata": {},
   "outputs": [
    {
     "data": {
      "text/plain": [
       "['vso']"
      ]
     },
     "execution_count": 5,
     "metadata": {},
     "output_type": "execute_result"
    }
   ],
   "source": [
    "query.keys()"
   ]
  },
  {
   "cell_type": "markdown",
   "id": "e4363e1f",
   "metadata": {},
   "source": [
    "Extract the filenames from the query"
   ]
  },
  {
   "cell_type": "code",
   "execution_count": 6,
   "id": "e59170f6",
   "metadata": {},
   "outputs": [],
   "source": [
    "filenames = query[\"vso\"][\"fileid\"]"
   ]
  },
  {
   "cell_type": "markdown",
   "id": "010e6ae3",
   "metadata": {},
   "source": [
    "We now want to only keep the files whose filename contains the string \"eui-hrilya1216-image\""
   ]
  },
  {
   "cell_type": "code",
   "execution_count": 7,
   "id": "72bc5cc9",
   "metadata": {},
   "outputs": [],
   "source": [
    "filtered_query=query[\"vso\"][[\"eui-hrilya1216-image\" in f for f in filenames]]"
   ]
  },
  {
   "cell_type": "markdown",
   "id": "a2a0ce00",
   "metadata": {},
   "source": [
    "Display the new, filtered query:"
   ]
  },
  {
   "cell_type": "code",
   "execution_count": 8,
   "id": "3e68c5e3",
   "metadata": {},
   "outputs": [
    {
     "data": {
      "text/html": [
       "<div><i>VSOQueryResponseTable length=10</i>\n",
       "<table id=\"table2036648037392\" class=\"table-striped table-bordered table-condensed\">\n",
       "<thead><tr><th>Start Time</th><th>End Time</th><th>Source</th><th>Instrument</th><th>Wavelength</th><th>Provider</th><th>Physobs</th><th>Wavetype</th><th>Extent X</th><th>Extent Y</th><th>Extent Width</th><th>Extent Length</th><th>Extent Type</th><th>Size</th></tr></thead>\n",
       "<thead><tr><th></th><th></th><th></th><th></th><th>Angstrom</th><th></th><th></th><th></th><th></th><th></th><th></th><th></th><th></th><th>Mibyte</th></tr></thead>\n",
       "<thead><tr><th>Time</th><th>Time</th><th>str2</th><th>str3</th><th>float64[2]</th><th>str7</th><th>str9</th><th>str3</th><th>str18</th><th>str17</th><th>str19</th><th>str21</th><th>str8</th><th>float64</th></tr></thead>\n",
       "<tr><td>2022-03-06 18:00:30.000</td><td>2022-03-06 18:00:35.000</td><td>SO</td><td>EUI</td><td>1120.0 .. 1340.0</td><td>SDAC_SO</td><td>intensity</td><td>uv</td><td>-75.1508334701976</td><td>999.9999999999999</td><td>32.896000000000000</td><td>1052.672000000000000</td><td>FULL_SUN</td><td>1.37012</td></tr>\n",
       "<tr><td>2022-03-06 18:01:30.000</td><td>2022-03-06 18:01:35.000</td><td>SO</td><td>EUI</td><td>1120.0 .. 1340.0</td><td>SDAC_SO</td><td>intensity</td><td>uv</td><td>-74.8317269255084</td><td>999.9999999999999</td><td>32.896000000000000</td><td>1052.672000000000000</td><td>FULL_SUN</td><td>1.37305</td></tr>\n",
       "<tr><td>2022-03-06 18:02:30.000</td><td>2022-03-06 18:02:35.000</td><td>SO</td><td>EUI</td><td>1120.0 .. 1340.0</td><td>SDAC_SO</td><td>intensity</td><td>uv</td><td>-74.6952861336778</td><td>999.9999999999999</td><td>32.896000000000000</td><td>1052.672000000000000</td><td>FULL_SUN</td><td>1.20312</td></tr>\n",
       "<tr><td>2022-03-06 18:03:30.000</td><td>2022-03-06 18:03:35.000</td><td>SO</td><td>EUI</td><td>1120.0 .. 1340.0</td><td>SDAC_SO</td><td>intensity</td><td>uv</td><td>-74.6470155347512</td><td>999.9999999999999</td><td>32.896000000000000</td><td>1052.672000000000000</td><td>FULL_SUN</td><td>1.38184</td></tr>\n",
       "<tr><td>2022-03-06 18:04:30.000</td><td>2022-03-06 18:04:35.000</td><td>SO</td><td>EUI</td><td>1120.0 .. 1340.0</td><td>SDAC_SO</td><td>intensity</td><td>uv</td><td>-74.7518103203095</td><td>999.9999999999999</td><td>32.896000000000000</td><td>1052.672000000000000</td><td>FULL_SUN</td><td>1.38477</td></tr>\n",
       "<tr><td>2022-03-06 18:05:30.000</td><td>2022-03-06 18:05:35.000</td><td>SO</td><td>EUI</td><td>1120.0 .. 1340.0</td><td>SDAC_SO</td><td>intensity</td><td>uv</td><td>-74.8551648949518</td><td>999.9999999999999</td><td>32.896000000000000</td><td>1052.672000000000000</td><td>FULL_SUN</td><td>1.38184</td></tr>\n",
       "<tr><td>2022-03-06 18:06:30.000</td><td>2022-03-06 18:06:35.000</td><td>SO</td><td>EUI</td><td>1120.0 .. 1340.0</td><td>SDAC_SO</td><td>intensity</td><td>uv</td><td>-74.7221323221458</td><td>999.9999999999999</td><td>32.896000000000000</td><td>1052.672000000000000</td><td>FULL_SUN</td><td>1.37598</td></tr>\n",
       "<tr><td>2022-03-06 18:07:30.000</td><td>2022-03-06 18:07:35.000</td><td>SO</td><td>EUI</td><td>1120.0 .. 1340.0</td><td>SDAC_SO</td><td>intensity</td><td>uv</td><td>-74.9584530732952</td><td>999.9999999999999</td><td>32.896000000000000</td><td>1052.672000000000000</td><td>FULL_SUN</td><td>1.37305</td></tr>\n",
       "<tr><td>2022-03-06 18:08:30.000</td><td>2022-03-06 18:08:35.000</td><td>SO</td><td>EUI</td><td>1120.0 .. 1340.0</td><td>SDAC_SO</td><td>intensity</td><td>uv</td><td>-74.7697111779079</td><td>999.9999999999999</td><td>32.896000000000000</td><td>1052.672000000000000</td><td>FULL_SUN</td><td>1.35938</td></tr>\n",
       "<tr><td>2022-03-06 18:09:30.000</td><td>2022-03-06 18:09:35.000</td><td>SO</td><td>EUI</td><td>1120.0 .. 1340.0</td><td>SDAC_SO</td><td>intensity</td><td>uv</td><td>-74.8245986137800</td><td>999.9999999999999</td><td>32.896000000000000</td><td>1052.672000000000000</td><td>FULL_SUN</td><td>1.35645</td></tr>\n",
       "</table></div>"
      ],
      "text/plain": [
       "<sunpy.net.vso.table_response.VSOQueryResponseTable object at 0x000001DA31AEC950>\n",
       "       Start Time               End Time        Source ... Extent Type   Size \n",
       "                                                       ...              Mibyte\n",
       "----------------------- ----------------------- ------ ... ----------- -------\n",
       "2022-03-06 18:00:30.000 2022-03-06 18:00:35.000     SO ...    FULL_SUN 1.37012\n",
       "2022-03-06 18:01:30.000 2022-03-06 18:01:35.000     SO ...    FULL_SUN 1.37305\n",
       "2022-03-06 18:02:30.000 2022-03-06 18:02:35.000     SO ...    FULL_SUN 1.20312\n",
       "2022-03-06 18:03:30.000 2022-03-06 18:03:35.000     SO ...    FULL_SUN 1.38184\n",
       "2022-03-06 18:04:30.000 2022-03-06 18:04:35.000     SO ...    FULL_SUN 1.38477\n",
       "2022-03-06 18:05:30.000 2022-03-06 18:05:35.000     SO ...    FULL_SUN 1.38184\n",
       "2022-03-06 18:06:30.000 2022-03-06 18:06:35.000     SO ...    FULL_SUN 1.37598\n",
       "2022-03-06 18:07:30.000 2022-03-06 18:07:35.000     SO ...    FULL_SUN 1.37305\n",
       "2022-03-06 18:08:30.000 2022-03-06 18:08:35.000     SO ...    FULL_SUN 1.35938\n",
       "2022-03-06 18:09:30.000 2022-03-06 18:09:35.000     SO ...    FULL_SUN 1.35645"
      ]
     },
     "execution_count": 8,
     "metadata": {},
     "output_type": "execute_result"
    }
   ],
   "source": [
    "filtered_query"
   ]
  },
  {
   "cell_type": "markdown",
   "id": "3417276f",
   "metadata": {},
   "source": [
    "Now the files of this filtered list can be download with the usual Fido.fetch"
   ]
  },
  {
   "cell_type": "code",
   "execution_count": 20,
   "id": "c4a266b4",
   "metadata": {},
   "outputs": [
    {
     "name": "stderr",
     "output_type": "stream",
     "text": [
      "Files Downloaded:   0%|                                                                       | 0/10 [00:00<?, ?file/s]\n",
      "\n",
      "\n",
      "\n",
      "solo_l2_eui_hrilya1216_image_20220306t180330287_v01.fits:   0%|                            | 0.00/1.45M [00:00<?, ?B/s]\u001b[A\u001b[A\u001b[A\u001b[A\n",
      "\n",
      "\n",
      "\n",
      "\n",
      "solo_l2_eui_hrilya1216_image_20220306t180430287_v01.fits:   0%|                            | 0.00/1.45M [00:00<?, ?B/s]\u001b[A\u001b[A\u001b[A\u001b[A\u001b[A\n",
      "\n",
      "solo_l2_eui_hrilya1216_image_20220306t180130287_v01.fits:   0%|                            | 0.00/1.44M [00:00<?, ?B/s]\u001b[A\u001b[A\n",
      "solo_l2_eui_hrilya1216_image_20220306t180030287_v01.fits:   0%|                            | 0.00/1.44M [00:00<?, ?B/s]\u001b[A\n",
      "\n",
      "\n",
      "solo_l2_eui_hrilya1216_image_20220306t180230287_v01.fits:   0%|                            | 0.00/1.26M [00:00<?, ?B/s]\u001b[A\u001b[A\u001b[A\n",
      "\n",
      "\n",
      "\n",
      "solo_l2_eui_hrilya1216_image_20220306t180330287_v01.fits:   0%|                   | 1.02k/1.45M [00:00<03:12, 7.54kB/s]\u001b[A\u001b[A\u001b[A\u001b[A\n",
      "\n",
      "\n",
      "\n",
      "\n",
      "solo_l2_eui_hrilya1216_image_20220306t180430287_v01.fits:   0%|                   | 1.02k/1.45M [00:00<03:28, 6.97kB/s]\u001b[A\u001b[A\u001b[A\u001b[A\u001b[A\n",
      "\n",
      "\n",
      "\n",
      "solo_l2_eui_hrilya1216_image_20220306t180330287_v01.fits:  36%|███████▏            | 521k/1.45M [00:00<00:00, 2.60MB/s]\u001b[A\u001b[A\u001b[A\u001b[A\n",
      "\n",
      "\n",
      "\n",
      "\n",
      "solo_l2_eui_hrilya1216_image_20220306t180430287_v01.fits:  37%|███████▍            | 544k/1.45M [00:00<00:00, 2.68MB/s]\u001b[A\u001b[A\u001b[A\u001b[A\u001b[A\n",
      "\n",
      "\n",
      "\n",
      "\n",
      "solo_l2_eui_hrilya1216_image_20220306t180430287_v01.fits:  77%|██████████████▋    | 1.12M/1.45M [00:00<00:00, 3.92MB/s]\u001b[A\u001b[A\u001b[A\u001b[A\u001b[A\n",
      "\n",
      "\n",
      "\n",
      "solo_l2_eui_hrilya1216_image_20220306t180330287_v01.fits:  73%|█████████████▉     | 1.06M/1.45M [00:00<00:00, 3.48MB/s]\u001b[A\u001b[A\u001b[A\u001b[A\n",
      "\n",
      "solo_l2_eui_hrilya1216_image_20220306t180130287_v01.fits:   0%|                   | 1.02k/1.44M [00:00<08:15, 2.90kB/s]\u001b[A\u001b[A\n",
      "\n",
      "\n",
      "\n",
      "Files Downloaded:  10%|██████▎                                                        | 1/10 [00:00<00:06,  1.32file/s]\u001b[A\u001b[A\u001b[A\u001b[A\n",
      "solo_l2_eui_hrilya1216_image_20220306t180030287_v01.fits:   0%|                   | 1.02k/1.44M [00:00<09:33, 2.50kB/s]\u001b[A\n",
      "\n",
      "solo_l2_eui_hrilya1216_image_20220306t180130287_v01.fits:  49%|█████████▊          | 709k/1.44M [00:00<00:00, 2.04MB/s]\u001b[A\u001b[A\n",
      "\n",
      "Files Downloaded:  20%|████████████▌                                                  | 2/10 [00:00<00:03,  2.63file/s]\u001b[A\u001b[A\n",
      "solo_l2_eui_hrilya1216_image_20220306t180030287_v01.fits:  32%|██████▍             | 464k/1.44M [00:00<00:00, 1.20MB/s]\u001b[A\n",
      "\n",
      "\n",
      "solo_l2_eui_hrilya1216_image_20220306t180230287_v01.fits:   0%|                   | 1.02k/1.26M [00:00<09:55, 2.12kB/s]\u001b[A\u001b[A\u001b[A\n",
      "solo_l2_eui_hrilya1216_image_20220306t180030287_v01.fits:  94%|█████████████████▊ | 1.34M/1.44M [00:00<00:00, 3.20MB/s]\u001b[A\n",
      "Files Downloaded:  30%|██████████████████▉                                            | 3/10 [00:01<00:01,  3.68file/s]\u001b[A\n",
      "\n",
      "\n",
      "\n",
      "solo_l2_eui_hrilya1216_image_20220306t180530287_v01.fits:   0%|                            | 0.00/1.45M [00:00<?, ?B/s]\u001b[A\u001b[A\u001b[A\u001b[A\n",
      "\n",
      "\n",
      "solo_l2_eui_hrilya1216_image_20220306t180230287_v01.fits:  38%|███████▋            | 485k/1.26M [00:00<00:00, 1.10MB/s]\u001b[A\u001b[A\u001b[A\n",
      "\n",
      "solo_l2_eui_hrilya1216_image_20220306t180630288_v01.fits:   0%|                            | 0.00/1.44M [00:00<?, ?B/s]\u001b[A\u001b[A\n",
      "\n",
      "\n",
      "\n",
      "\n",
      "Files Downloaded:  40%|█████████████████████████▏                                     | 4/10 [00:01<00:01,  4.62file/s]\u001b[A\u001b[A\u001b[A\u001b[A\u001b[A\n",
      "\n",
      "\n",
      "\n",
      "solo_l2_eui_hrilya1216_image_20220306t180530287_v01.fits:   0%|                   | 1.02k/1.45M [00:00<03:20, 7.23kB/s]\u001b[A\u001b[A\u001b[A\u001b[A\n",
      "\n",
      "\n",
      "solo_l2_eui_hrilya1216_image_20220306t180230287_v01.fits:  86%|████████████████▍  | 1.09M/1.26M [00:00<00:00, 2.12MB/s]\u001b[A\u001b[A\u001b[A\n",
      "solo_l2_eui_hrilya1216_image_20220306t180730288_v01.fits:   0%|                            | 0.00/1.44M [00:00<?, ?B/s]\u001b[A\n",
      "\n",
      "solo_l2_eui_hrilya1216_image_20220306t180630288_v01.fits:   0%|                   | 1.02k/1.44M [00:00<03:44, 6.42kB/s]\u001b[A\u001b[A\n",
      "\n",
      "\n",
      "\n",
      "solo_l2_eui_hrilya1216_image_20220306t180530287_v01.fits:  28%|█████▌              | 403k/1.45M [00:00<00:00, 2.01MB/s]\u001b[A\u001b[A\u001b[A\u001b[A\n",
      "\n",
      "solo_l2_eui_hrilya1216_image_20220306t180630288_v01.fits:  25%|████▉               | 355k/1.44M [00:00<00:00, 1.67MB/s]\u001b[A\u001b[A\n",
      "\n",
      "\n",
      "\n",
      "solo_l2_eui_hrilya1216_image_20220306t180530287_v01.fits:  93%|█████████████████▌ | 1.34M/1.45M [00:00<00:00, 5.09MB/s]\u001b[A\u001b[A\u001b[A\u001b[A\n",
      "\n",
      "\n",
      "\n",
      "Files Downloaded:  50%|███████████████████████████████▌                               | 5/10 [00:01<00:01,  4.48file/s]\u001b[A\u001b[A\u001b[A\u001b[A\n",
      "\n",
      "solo_l2_eui_hrilya1216_image_20220306t180630288_v01.fits:  87%|████████████████▍  | 1.25M/1.44M [00:00<00:00, 4.56MB/s]\u001b[A\u001b[A\n",
      "\n",
      "\n",
      "                                                                                                                       \u001b[A\u001b[A\u001b[A\n",
      "solo_l2_eui_hrilya1216_image_20220306t180730288_v01.fits:   0%|                   | 1.02k/1.44M [00:00<06:26, 3.73kB/s]\u001b[A\n",
      "\n",
      "Files Downloaded:  70%|████████████████████████████████████████████                   | 7/10 [00:01<00:00,  7.09file/s]\u001b[A\u001b[A\n",
      "\n",
      "\n",
      "\n",
      "\n",
      "solo_l2_eui_hrilya1216_image_20220306t180830288_v01.fits:   0%|                            | 0.00/1.43M [00:00<?, ?B/s]\u001b[A\u001b[A\u001b[A\u001b[A\u001b[A\n",
      "\n",
      "\n",
      "\n",
      "solo_l2_eui_hrilya1216_image_20220306t180930288_v01.fits:   0%|                            | 0.00/1.42M [00:00<?, ?B/s]\u001b[A\u001b[A\u001b[A\u001b[A\n",
      "solo_l2_eui_hrilya1216_image_20220306t180730288_v01.fits:  17%|███▌                 | 242k/1.44M [00:00<00:01, 806kB/s]\u001b[A\n",
      "\n",
      "\n",
      "\n",
      "\n",
      "solo_l2_eui_hrilya1216_image_20220306t180830288_v01.fits:   0%|                   | 1.02k/1.43M [00:00<03:03, 7.77kB/s]\u001b[A\u001b[A\u001b[A\u001b[A\u001b[A\n",
      "\n",
      "\n",
      "\n",
      "solo_l2_eui_hrilya1216_image_20220306t180930288_v01.fits:   0%|                   | 1.02k/1.42M [00:00<03:04, 7.72kB/s]\u001b[A\u001b[A\u001b[A\u001b[A\n",
      "solo_l2_eui_hrilya1216_image_20220306t180730288_v01.fits:  36%|███████▎            | 524k/1.44M [00:00<00:00, 1.41MB/s]\u001b[A\n",
      "\n",
      "\n",
      "\n",
      "\n",
      "solo_l2_eui_hrilya1216_image_20220306t180830288_v01.fits:  48%|█████████▋          | 687k/1.43M [00:00<00:00, 3.53MB/s]\u001b[A\u001b[A\u001b[A\u001b[A\u001b[A\n",
      "\n",
      "\n",
      "\n",
      "\n",
      "Files Downloaded:  80%|██████████████████████████████████████████████████▍            | 8/10 [00:01<00:00,  5.62file/s]\u001b[A\u001b[A\u001b[A\u001b[A\u001b[A\n",
      "\n",
      "\n",
      "\n",
      "solo_l2_eui_hrilya1216_image_20220306t180930288_v01.fits:   9%|█▊                   | 121k/1.42M [00:00<00:02, 618kB/s]\u001b[A\u001b[A\u001b[A\u001b[A\n",
      "solo_l2_eui_hrilya1216_image_20220306t180730288_v01.fits:  56%|███████████▎        | 813k/1.44M [00:00<00:00, 1.85MB/s]\u001b[A\n",
      "\n",
      "\n",
      "\n",
      "solo_l2_eui_hrilya1216_image_20220306t180930288_v01.fits:  21%|████▏               | 302k/1.42M [00:00<00:01, 1.08MB/s]\u001b[A\u001b[A\u001b[A\u001b[A\n",
      "solo_l2_eui_hrilya1216_image_20220306t180730288_v01.fits:  80%|███████████████▏   | 1.15M/1.44M [00:00<00:00, 2.29MB/s]\u001b[A\n",
      "\n",
      "\n",
      "\n",
      "solo_l2_eui_hrilya1216_image_20220306t180930288_v01.fits:  70%|██████████████      | 999k/1.42M [00:00<00:00, 3.23MB/s]\u001b[A\u001b[A\u001b[A\u001b[A\n",
      "solo_l2_eui_hrilya1216_image_20220306t180730288_v01.fits:  99%|██████████████████▊| 1.43M/1.44M [00:00<00:00, 2.26MB/s]\u001b[A\n",
      "Files Downloaded:  90%|████████████████████████████████████████████████████████▋      | 9/10 [00:02<00:00,  5.10file/s]\u001b[A\n",
      "\n",
      "\n",
      "\n",
      "solo_l2_eui_hrilya1216_image_20220306t180930288_v01.fits:  94%|█████████████████▉ | 1.34M/1.42M [00:00<00:00, 1.87MB/s]\u001b[A\u001b[A\u001b[A\u001b[A\n",
      "\n",
      "\n",
      "\n",
      "Files Downloaded: 100%|██████████████████████████████████████████████████████████████| 10/10 [00:02<00:00,  4.11file/s]\u001b[A\u001b[A\u001b[A\u001b[A\n"
     ]
    }
   ],
   "source": [
    "files = Fido.fetch(filtered_query)"
   ]
  },
  {
   "cell_type": "code",
   "execution_count": null,
   "id": "f415b267",
   "metadata": {},
   "outputs": [],
   "source": []
  }
 ],
 "metadata": {
  "kernelspec": {
   "display_name": "sunpyenv",
   "language": "python",
   "name": "sunpyenv"
  },
  "language_info": {
   "codemirror_mode": {
    "name": "ipython",
    "version": 3
   },
   "file_extension": ".py",
   "mimetype": "text/x-python",
   "name": "python",
   "nbconvert_exporter": "python",
   "pygments_lexer": "ipython3",
   "version": "3.11.4"
  }
 },
 "nbformat": 4,
 "nbformat_minor": 5
}
